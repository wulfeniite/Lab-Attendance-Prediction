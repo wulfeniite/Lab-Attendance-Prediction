{
  "nbformat": 4,
  "nbformat_minor": 0,
  "metadata": {
    "colab": {
      "provenance": []
    },
    "kernelspec": {
      "name": "python3",
      "display_name": "Python 3"
    },
    "language_info": {
      "name": "python"
    }
  },
  "cells": [
    {
      "cell_type": "markdown",
      "source": [
        "# Predicting Lab Attendance Using Logistical Regression\n",
        "\n",
        "To solve the problem of predicting student presence on the lab day using logistic regression, the following detailed steps were taken based on the provided attendance data from self-made, semi-synthetic datset named \"attendace_data.csv\" ([which can be accessed by clicking here](https://drive.google.com/file/d/1bx7WN_TV2aH9uYdJbUITDkjWnxs4_H-N/view?usp=sharing)):\n",
        "\n",
        "1. **Data Loading and Preprocessing**:\n",
        "   - The CSV file was loaded into a pandas DataFrame.\n",
        "   - Categorical variables like Gender, Morning Classes, Noon Class, Eve Class, and Reason were encoded for modeling purposes.\n",
        "\n",
        "2. **Feature Selection**:\n",
        "   - Features such as Gender, Morning Classes, Noon Class, Eve Class, CGPA, and Reason were selected as potential predictors of student presence on the lab day.\n",
        "\n",
        "3. **Model Building**:\n",
        "   - The dataset was split into training and testing sets using a 80-20 split.\n",
        "   - A logistic regression model was initialized and trained on the training data.\n",
        "\n",
        "4. **Model Evaluation**:\n",
        "   - The model's performance was evaluated using accuracy as the metric by comparing predicted values with actual values from the test set.\n",
        "   - The accuracy score provided an indication of how well the model predicts student presence.\n",
        "\n",
        "5. **Test Example**:\n",
        "   - A test example was created with specific features for a hypothetical student to demonstrate how the model predicts their presence on the lab day.\n",
        "\n",
        "By following these steps, a logistic regression model was successfully built and tested on the attendance data to predict whether a student will be present on the lab day based on various factors such as gender, class attendance, CGPA, and reason for absence or presence.\n"
      ],
      "metadata": {
        "id": "MJEKI40tosNU"
      }
    },
    {
      "cell_type": "code",
      "execution_count": 56,
      "metadata": {
        "colab": {
          "base_uri": "https://localhost:8080/",
          "height": 487
        },
        "id": "kbXHsVrDJBDF",
        "outputId": "a424fa10-141d-4cb9-b97d-776e7943247b"
      },
      "outputs": [
        {
          "output_type": "stream",
          "name": "stdout",
          "text": [
            "Accuracy of the logistic regression model: 1.00\n",
            "Prediction for test example: ['No']\n"
          ]
        },
        {
          "output_type": "display_data",
          "data": {
            "text/plain": [
              "<Figure size 640x480 with 1 Axes>"
            ],
            "image/png": "[encoded data removed]"
          },
          "metadata": {}
        }
      ],
      "source": [
        "import pandas as pd\n",
        "from sklearn.model_selection import train_test_split\n",
        "from sklearn.linear_model import LogisticRegression\n",
        "from sklearn.metrics import accuracy_score\n",
        "import matplotlib.pyplot as plt\n",
        "\n",
        "# Load the dataset\n",
        "data = pd.read_csv(\"attendace_data.csv\")\n",
        "\n",
        "# Preprocessing\n",
        "data['Gender'] = data['Gender'].map({'M': 0, 'F': 1})\n",
        "data['Morning Classes'] = data['Morning Classes'].map({'A': 0, 'P': 1})\n",
        "data['noon class'] = data['noon class'].map({'A': 0, 'P': 1})\n",
        "data['Eve class'] = data['Eve class'].map({'A': 0, 'P': 1})\n",
        "'''data['Reason'] = pd.factorize(data['Reason'])[0]'''\n",
        "\n",
        "# Defining features and target variable\n",
        "X = data[['Gender', 'Morning Classes', 'noon class', 'Eve class', 'CGPA']]\n",
        "y = data['Present on Lab Day?']\n",
        "\n",
        "# Split the data into training and testing sets\n",
        "X_train, X_test, y_train, y_test = train_test_split(X, y, test_size=0.2, random_state=42)\n",
        "\n",
        "# train the logistic regression model\n",
        "model = LogisticRegression()\n",
        "model.fit(X_train, y_train)\n",
        "\n",
        "# Predict on testset\n",
        "predictions = model.predict(X_test)\n",
        "\n",
        "# Calculate the accuracy of model\n",
        "accuracy = accuracy_score(y_test, predictions)\n",
        "print(\"Accuracy of the logistic regression model: {:.2f}\".format(accuracy))\n",
        "\n",
        "# example\n",
        "example = pd.DataFrame({'Gender': [0], 'Morning Classes': [0], 'noon class': [0], 'Eve class': [0], 'CGPA': [7.9]})\n",
        "prediction_example = model.predict(example)\n",
        "print(\"Prediction for test example: {}\".format(prediction_example))\n",
        "\n",
        "#Plot\n",
        "\n",
        "\n",
        "plt.scatter(X_test['CGPA'], y_test)\n",
        "plt.title(\"Will they attend the lab session?\")\n",
        "plt.show()\n"
      ]
    }
  ]
}